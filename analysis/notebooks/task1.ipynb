{
 "cells": [
  {
   "cell_type": "code",
   "execution_count": 1,
   "metadata": {},
   "outputs": [],
   "source": [
    "import sys\n",
    "sys.path.append(\"..\") # Adds higher directory to python modules path.\n",
    "from utils import *"
   ]
  },
  {
   "cell_type": "markdown",
   "metadata": {},
   "source": [
    "### Task 1\n",
    "Processing information to generate new data and attributes on large datasets such as the bike data below is often likely going to be time-expensive; as such, it is important to seek out approaches that can optimise and streamline these processes. The Pool object contained within Python's multiprocessing module offers a way to parallelize the execution of a function across a number of input values that are distributed between processes. This data parallelism is used in this notebook to calculate bike usage data on the bike data. By approaching a problem from a non-sequential standpoint, tasks and jobs can be completed more efficiently."
   ]
  },
  {
   "cell_type": "markdown",
   "metadata": {},
   "source": [
    " - 1. Read in tables as dataframes."
   ]
  },
  {
   "cell_type": "code",
   "execution_count": 2,
   "metadata": {
    "scrolled": true
   },
   "outputs": [],
   "source": [
    "core_bike_df = query_db()\n",
    "core_weather_df = query_db(\"live_weather_data\")\n",
    "bike_df = core_bike_df.copy()\n",
    "weather_df = core_weather_df.copy()"
   ]
  },
  {
   "cell_type": "markdown",
   "metadata": {},
   "source": [
    " - 2. Print the number of rows in each table."
   ]
  },
  {
   "cell_type": "code",
   "execution_count": 3,
   "metadata": {},
   "outputs": [
    {
     "name": "stdout",
     "output_type": "stream",
     "text": [
      "\tBikes dataframe contains 1,077,375 rows.\n",
      "\tWeather dataframe contains 41,628 rows.\n"
     ]
    }
   ],
   "source": [
    "print(\"\\tBikes dataframe contains\", f'{len(bike_df.index):,}', \"rows.\")\n",
    "print(\"\\tWeather dataframe contains\", f'{len(weather_df.index):,}', \"rows.\")"
   ]
  },
  {
   "cell_type": "markdown",
   "metadata": {},
   "source": [
    " - 3. Remove any rows related to stations that are not currently in use."
   ]
  },
  {
   "cell_type": "code",
   "execution_count": 4,
   "metadata": {},
   "outputs": [
    {
     "name": "stdout",
     "output_type": "stream",
     "text": [
      "\t 1\n"
     ]
    }
   ],
   "source": [
    "bike_df = bike_df.loc[bike_df['status'] == 0]\n",
    "print(\"\\t\", bike_df['status'].nunique())"
   ]
  },
  {
   "cell_type": "markdown",
   "metadata": {},
   "source": [
    " - 4. Generate the support attribute dd-mm-yy."
   ]
  },
  {
   "cell_type": "code",
   "execution_count": 5,
   "metadata": {},
   "outputs": [],
   "source": [
    "bike_df['dd_mm_yy'] = pd.to_datetime(bike_df['dt'],unit='s').dt.strftime('%d-%m-%y')"
   ]
  },
  {
   "cell_type": "markdown",
   "metadata": {},
   "source": [
    " - 5. Generate a city indicator attribute for each dataframe."
   ]
  },
  {
   "cell_type": "code",
   "execution_count": 6,
   "metadata": {},
   "outputs": [],
   "source": [
    "bike_df['city_id'] = np.where(bike_df['station_id'] > 4000, 4, \n",
    "         (np.where(bike_df['station_id'] < 3000, 2, 3)))\n",
    "weather_df['city_id'] = np.where(weather_df.name == \"Cork\", 2,\n",
    "                                 (np.where(weather_df.name == \"Limerick\", 3, 4)))"
   ]
  },
  {
   "cell_type": "code",
   "execution_count": 7,
   "metadata": {},
   "outputs": [],
   "source": [
    "# a list of tuples containing df, station_id, date to be used as arguments for pool_process function\n",
    "stations_data = [(bike_df, station, day) for day in bike_df['dd_mm_yy'].unique() for station in bike_df['station_id'].unique()]\n",
    "city_data = [(bike_df, city, day) for day in bike_df['dd_mm_yy'].unique() for city in bike_df['city_id'].unique()]"
   ]
  },
  {
   "cell_type": "markdown",
   "metadata": {},
   "source": [
    " - 6. Generate a bikes available citywide attribute that represents the total number of bikes available within each city for all recorded moments."
   ]
  },
  {
   "cell_type": "code",
   "execution_count": 8,
   "metadata": {},
   "outputs": [
    {
     "name": "stdout",
     "output_type": "stream",
     "text": [
      "CPU times: user 22.8 s, sys: 5.49 s, total: 28.3 s\n",
      "Wall time: 2min\n"
     ]
    }
   ],
   "source": [
    "%%time\n",
    "bike_df['bikes_available_citywide'] = 0\n",
    "ba_citywide_output = pool_process(func=calculate_available_bikes_citywide, data=city_data, pool_size=8)"
   ]
  },
  {
   "cell_type": "code",
   "execution_count": 9,
   "metadata": {},
   "outputs": [
    {
     "name": "stdout",
     "output_type": "stream",
     "text": [
      "CPU times: user 3.22 s, sys: 539 ms, total: 3.76 s\n",
      "Wall time: 3.8 s\n"
     ]
    }
   ],
   "source": [
    "%%time\n",
    "for dictionary in ba_citywide_output:\n",
    "    bike_df.loc[[*dictionary], 'bikes_available_citywide'] = list(dictionary.values())"
   ]
  },
  {
   "cell_type": "markdown",
   "metadata": {},
   "source": [
    " - 7. Generate a count attribute named count_1 that cumulatively tracks bike usage at each station across every day."
   ]
  },
  {
   "cell_type": "code",
   "execution_count": 10,
   "metadata": {},
   "outputs": [],
   "source": [
    "bike_df['count_1'] = 0"
   ]
  },
  {
   "cell_type": "code",
   "execution_count": 11,
   "metadata": {},
   "outputs": [
    {
     "name": "stdout",
     "output_type": "stream",
     "text": [
      "CPU times: user 24.6 s, sys: 5.86 s, total: 30.5 s\n",
      "Wall time: 7min\n"
     ]
    }
   ],
   "source": [
    "%%time\n",
    "count_1_output = pool_process(func=track_station_usage_by_date, data=stations_data, pool_size=8)"
   ]
  },
  {
   "cell_type": "code",
   "execution_count": 12,
   "metadata": {},
   "outputs": [
    {
     "name": "stdout",
     "output_type": "stream",
     "text": [
      "CPU times: user 1min 34s, sys: 18.7 s, total: 1min 53s\n",
      "Wall time: 1min 53s\n"
     ]
    }
   ],
   "source": [
    "%%time\n",
    "for dictionary in count_1_output:\n",
    "    bike_df.loc[[*dictionary], 'count_1'] = list(dictionary.values())"
   ]
  },
  {
   "cell_type": "markdown",
   "metadata": {},
   "source": [
    " - 8. Generate a count attribute named count_2 that displays the total bike usage at each city across every day."
   ]
  },
  {
   "cell_type": "code",
   "execution_count": 13,
   "metadata": {},
   "outputs": [],
   "source": [
    "bike_df['count_2'] = 0"
   ]
  },
  {
   "cell_type": "code",
   "execution_count": 14,
   "metadata": {},
   "outputs": [
    {
     "name": "stdout",
     "output_type": "stream",
     "text": [
      "CPU times: user 22.4 s, sys: 6.31 s, total: 28.7 s\n",
      "Wall time: 2min 3s\n"
     ]
    }
   ],
   "source": [
    "%%time\n",
    "count_2_output = pool_process(func=track_city_usage_by_date, data=city_data, pool_size=8)"
   ]
  },
  {
   "cell_type": "code",
   "execution_count": 15,
   "metadata": {},
   "outputs": [
    {
     "name": "stdout",
     "output_type": "stream",
     "text": [
      "CPU times: user 2.69 s, sys: 239 ms, total: 2.93 s\n",
      "Wall time: 2.93 s\n"
     ]
    }
   ],
   "source": [
    "%%time\n",
    "for dictionary in count_2_output:\n",
    "    bike_df.loc[[*dictionary], 'count_2'] = list(dictionary.values())"
   ]
  }
 ],
 "metadata": {
  "kernelspec": {
   "display_name": "Python 3",
   "language": "python",
   "name": "python3"
  },
  "language_info": {
   "codemirror_mode": {
    "name": "ipython",
    "version": 3
   },
   "file_extension": ".py",
   "mimetype": "text/x-python",
   "name": "python",
   "nbconvert_exporter": "python",
   "pygments_lexer": "ipython3",
   "version": "3.7.9"
  }
 },
 "nbformat": 4,
 "nbformat_minor": 4
}
